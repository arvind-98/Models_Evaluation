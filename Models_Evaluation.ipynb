{
 "cells": [
  {
   "cell_type": "code",
   "execution_count": 17,
   "metadata": {},
   "outputs": [],
   "source": [
    "import pandas as pd\n",
    "import numpy as np\n",
    "import matplotlib.pylab as plt\n",
    "import seaborn as sns\n",
    "from sklearn.linear_model import LinearRegression\n",
    "from sklearn.metrics import mean_squared_error\n",
    "from sklearn.pipeline import Pipeline\n",
    "from sklearn.preprocessing import StandardScaler\n",
    "from sklearn.metrics import mean_squared_error\n",
    "from math import log\n",
    "from scipy import stats\n",
    "from IPython.display import display\n",
    "from IPython.html import widgets \n",
    "from IPython.display import display\n",
    "from ipywidgets import interact, interactive, fixed, interact_manual\n",
    "%matplotlib inline \n",
    "from sklearn.model_selection import train_test_split\n",
    "pd.options.display.max_columns = 400\n",
    "import statsmodels.api as sm\n",
    "from statsmodels.sandbox.regression.predstd import wls_prediction_std"
   ]
  },
  {
   "cell_type": "code",
   "execution_count": 5,
   "metadata": {},
   "outputs": [],
   "source": [
    "%%capture\n",
    "! pip install ipywidgets"
   ]
  },
  {
   "cell_type": "code",
   "execution_count": 20,
   "metadata": {},
   "outputs": [
    {
     "data": {
      "text/html": [
       "<div>\n",
       "<style scoped>\n",
       "    .dataframe tbody tr th:only-of-type {\n",
       "        vertical-align: middle;\n",
       "    }\n",
       "\n",
       "    .dataframe tbody tr th {\n",
       "        vertical-align: top;\n",
       "    }\n",
       "\n",
       "    .dataframe thead th {\n",
       "        text-align: right;\n",
       "    }\n",
       "</style>\n",
       "<table border=\"1\" class=\"dataframe\">\n",
       "  <thead>\n",
       "    <tr style=\"text-align: right;\">\n",
       "      <th></th>\n",
       "      <th>OverallQual</th>\n",
       "      <th>GarageCars</th>\n",
       "      <th>FullBath</th>\n",
       "      <th>TotRmsAbvGrd</th>\n",
       "      <th>MSZoning</th>\n",
       "      <th>Neighborhood</th>\n",
       "      <th>Condition1</th>\n",
       "      <th>Condition2</th>\n",
       "      <th>HouseStyle</th>\n",
       "      <th>ExterQual</th>\n",
       "      <th>BsmtQual</th>\n",
       "      <th>BsmtCond</th>\n",
       "      <th>KitchenQual</th>\n",
       "      <th>GarageType</th>\n",
       "      <th>GarageFinish</th>\n",
       "      <th>PoolQC</th>\n",
       "      <th>GrLivArea</th>\n",
       "      <th>GarageArea</th>\n",
       "      <th>TotalBsmtSF</th>\n",
       "      <th>1stFlrSF</th>\n",
       "      <th>YearBuilt</th>\n",
       "      <th>BsmtFinSF1</th>\n",
       "      <th>WoodDeckSF</th>\n",
       "      <th>2ndFlrSF</th>\n",
       "      <th>OpenPorchSF</th>\n",
       "      <th>LotArea</th>\n",
       "      <th>BsmtUnfSF</th>\n",
       "      <th>SalePrice</th>\n",
       "    </tr>\n",
       "  </thead>\n",
       "  <tbody>\n",
       "    <tr>\n",
       "      <th>0</th>\n",
       "      <td>7</td>\n",
       "      <td>2</td>\n",
       "      <td>2</td>\n",
       "      <td>8</td>\n",
       "      <td>6</td>\n",
       "      <td>6</td>\n",
       "      <td>3</td>\n",
       "      <td>3</td>\n",
       "      <td>4</td>\n",
       "      <td>4</td>\n",
       "      <td>4</td>\n",
       "      <td>3</td>\n",
       "      <td>4</td>\n",
       "      <td>2</td>\n",
       "      <td>2</td>\n",
       "      <td>0</td>\n",
       "      <td>1710</td>\n",
       "      <td>548</td>\n",
       "      <td>856</td>\n",
       "      <td>856</td>\n",
       "      <td>2003</td>\n",
       "      <td>706</td>\n",
       "      <td>0</td>\n",
       "      <td>854</td>\n",
       "      <td>61</td>\n",
       "      <td>8450</td>\n",
       "      <td>150</td>\n",
       "      <td>208500</td>\n",
       "    </tr>\n",
       "    <tr>\n",
       "      <th>1</th>\n",
       "      <td>6</td>\n",
       "      <td>2</td>\n",
       "      <td>2</td>\n",
       "      <td>6</td>\n",
       "      <td>6</td>\n",
       "      <td>25</td>\n",
       "      <td>2</td>\n",
       "      <td>3</td>\n",
       "      <td>1</td>\n",
       "      <td>3</td>\n",
       "      <td>4</td>\n",
       "      <td>3</td>\n",
       "      <td>3</td>\n",
       "      <td>2</td>\n",
       "      <td>2</td>\n",
       "      <td>0</td>\n",
       "      <td>1262</td>\n",
       "      <td>460</td>\n",
       "      <td>1262</td>\n",
       "      <td>1262</td>\n",
       "      <td>1976</td>\n",
       "      <td>978</td>\n",
       "      <td>298</td>\n",
       "      <td>0</td>\n",
       "      <td>0</td>\n",
       "      <td>9600</td>\n",
       "      <td>284</td>\n",
       "      <td>181500</td>\n",
       "    </tr>\n",
       "  </tbody>\n",
       "</table>\n",
       "</div>"
      ],
      "text/plain": [
       "   OverallQual  GarageCars  FullBath  TotRmsAbvGrd  MSZoning  Neighborhood  \\\n",
       "0            7           2         2             8         6             6   \n",
       "1            6           2         2             6         6            25   \n",
       "\n",
       "   Condition1  Condition2  HouseStyle  ExterQual  BsmtQual  BsmtCond  \\\n",
       "0           3           3           4          4         4         3   \n",
       "1           2           3           1          3         4         3   \n",
       "\n",
       "   KitchenQual  GarageType  GarageFinish  PoolQC  GrLivArea  GarageArea  \\\n",
       "0            4           2             2       0       1710         548   \n",
       "1            3           2             2       0       1262         460   \n",
       "\n",
       "   TotalBsmtSF  1stFlrSF  YearBuilt  BsmtFinSF1  WoodDeckSF  2ndFlrSF  \\\n",
       "0          856       856       2003         706           0       854   \n",
       "1         1262      1262       1976         978         298         0   \n",
       "\n",
       "   OpenPorchSF  LotArea  BsmtUnfSF  SalePrice  \n",
       "0           61     8450        150     208500  \n",
       "1            0     9600        284     181500  "
      ]
     },
     "execution_count": 20,
     "metadata": {},
     "output_type": "execute_result"
    }
   ],
   "source": [
    "df = pd.read_csv(r\"C:\\Users\\user\\Documents\\hsng.csv\")\n",
    "df.head(2)"
   ]
  },
  {
   "cell_type": "code",
   "execution_count": 39,
   "metadata": {},
   "outputs": [],
   "source": [
    "model1_df=df[['OverallQual','BsmtQual','FullBath','TotRmsAbvGrd']]\n",
    "model2_df=df[['OverallQual','GarageCars','FullBath','TotRmsAbvGrd','MSZoning','Neighborhood','Condition1','Condition2',\n",
    "              'HouseStyle','ExterQual','BsmtQual','BsmtCond','KitchenQual','GarageType','GarageFinish','PoolQC',\n",
    "              'GrLivArea','GarageArea','TotalBsmtSF']]\n",
    "model3_df=df[['2ndFlrSF','OpenPorchSF','LotArea','BsmtUnfSF']]"
   ]
  },
  {
   "cell_type": "code",
   "execution_count": 43,
   "metadata": {},
   "outputs": [
    {
     "data": {
      "image/png": "[encoded data removed]",
      "text/plain": [
       "<Figure size 936x720 with 1 Axes>"
      ]
     },
     "metadata": {
      "needs_background": "light"
     },
     "output_type": "display_data"
    }
   ],
   "source": [
    "model1_fit = sm.OLS(df['SalePrice'],model1_df,missing='drop').fit()\n",
    "model1_prediction=model1_fit.predict(model1_df) \n",
    "\n",
    "model2_fit = sm.OLS(df['SalePrice'],model2_df,missing='drop').fit()\n",
    "model2_prediction=model2_fit.predict(model2_df) \n",
    "\n",
    "model3_fit = sm.OLS(df['SalePrice'],model3_df,missing='drop').fit()\n",
    "model3_prediction=model3_fit.predict(model3_df) \n",
    "\n",
    "plt.figure(figsize=(13, 10))\n",
    "\n",
    "ax1 = sns.distplot(df['SalePrice'], hist=False, color=\"r\", label=\"Actual Value\")\n",
    "sns.distplot(model1_prediction, hist=False, color=\"b\", label=\"Predicted Values Model 1\" , ax=ax1)\n",
    "sns.distplot(model2_prediction, hist=False, color=\"g\", label=\"Predicted Values Model 2\" , ax=ax1)\n",
    "sns.distplot(model3_prediction, hist=False, color=\"k\", label=\"Predicted Values Model 3\" , ax=ax1)\n",
    "\n",
    "plt.title('Actual vs Predicted Values for Price')\n",
    "plt.xlabel('SalePrice')\n",
    "plt.ylabel('parameter of House')\n",
    "plt.show()\n",
    "plt.close()"
   ]
  },
  {
   "cell_type": "code",
   "execution_count": 95,
   "metadata": {
    "code_folding": []
   },
   "outputs": [],
   "source": [
    "def calculate_aic(n, mse, num_params):\n",
    "    aic = (-2 * log(mse)) + 2 * num_params\n",
    "    return aic"
   ]
  },
  {
   "cell_type": "code",
   "execution_count": null,
   "metadata": {},
   "outputs": [],
   "source": [
    "def calculate_bic(n, mse, num_params):\n",
    "    bic = n * log(mse) + num_params * log(n)\n",
    "    return bic"
   ]
  },
  {
   "cell_type": "code",
   "execution_count": 67,
   "metadata": {},
   "outputs": [],
   "source": [
    "print(\"BIC_Model_1\", calculate_bic(len(df['SalePrice']),\n",
    "                                   mean_squared_error(df['SalePrice'],model1_prediction),\n",
    "                                   len(model1_fit.params)+1))"
   ]
  },
  {
   "cell_type": "code",
   "execution_count": 101,
   "metadata": {},
   "outputs": [
    {
     "name": "stdout",
     "output_type": "stream",
     "text": [
      "Model_1_AIC:  35867.86938187073\n",
      "Model_2_AIC:  34848.104617973455\n",
      "Model_3_AIC:  37377.73985235205\n"
     ]
    }
   ],
   "source": [
    "print(\"Model_1_AIC: \",model1_fit.aic)\n",
    "print(\"Model_2_AIC: \",model2_fit.aic)\n",
    "print(\"Model_3_AIC: \",model3_fit.aic)"
   ]
  },
  {
   "cell_type": "code",
   "execution_count": 102,
   "metadata": {},
   "outputs": [
    {
     "name": "stdout",
     "output_type": "stream",
     "text": [
      "Model_1_BIC:  35867.86938187073\n",
      "Model_2_BIC:  34948.5422605528\n",
      "Model_3_BIC:  37398.88461921086\n"
     ]
    }
   ],
   "source": [
    "print(\"Model_1_BIC: \",model1_fit.aic)\n",
    "print(\"Model_2_BIC: \",model2_fit.bic)\n",
    "print(\"Model_3_BIC: \",model3_fit.bic)"
   ]
  },
  {
   "cell_type": "code",
   "execution_count": 108,
   "metadata": {},
   "outputs": [
    {
     "name": "stdout",
     "output_type": "stream",
     "text": [
      "R_Sqaured_Model_1:  0.9303419171596625\n",
      "R_Sqaured_Model_2:  0.9660604235173862\n",
      "R_Sqaured_Model_3:  0.8040701671676717\n"
     ]
    }
   ],
   "source": [
    "print(\"R_Sqaured_Model_1: \",model1_fit.rsquared)\n",
    "print(\"R_Sqaured_Model_2: \",model2_fit.rsquared)\n",
    "print(\"R_Sqaured_Model_3: \",model3_fit.rsquared)"
   ]
  },
  {
   "cell_type": "code",
   "execution_count": 107,
   "metadata": {},
   "outputs": [
    {
     "name": "stdout",
     "output_type": "stream",
     "text": [
      "Adj_R_Sqaured_Model_1_BIC:  0.9301505488002111\n",
      "Adj_R_Sqaured_Model_2_BIC:  0.9656129204270534\n",
      "Adj_R_Sqaured_Model_3_BIC:  0.8035318983961542\n"
     ]
    }
   ],
   "source": [
    "print(\"Adj_R_Sqaured_Model_1_BIC: \",model1_fit.rsquared_adj)\n",
    "print(\"Adj_R_Sqaured_Model_2_BIC: \",model2_fit.rsquared_adj)\n",
    "print(\"Adj_R_Sqaured_Model_3_BIC: \",model3_fit.rsquared_adj)"
   ]
  },
  {
   "cell_type": "code",
   "execution_count": 106,
   "metadata": {},
   "outputs": [
    {
     "name": "stdout",
     "output_type": "stream",
     "text": [
      "MSE_Model_1:  2719400544.0136585\n",
      "MSE_Model_2:  1324976212.1929514\n",
      "MSE_Model_3:  7648957195.879058\n"
     ]
    }
   ],
   "source": [
    "print(\"MSE_Model_1: \",mean_squared_error(df['SalePrice'],model1_prediction))\n",
    "print(\"MSE_Model_2: \",mean_squared_error(df['SalePrice'],model2_prediction))\n",
    "print(\"MSE_Model_3: \",mean_squared_error(df['SalePrice'],model3_prediction))"
   ]
  },
  {
   "cell_type": "code",
   "execution_count": null,
   "metadata": {},
   "outputs": [],
   "source": []
  }
 ],
 "metadata": {
  "kernelspec": {
   "display_name": "Python 3",
   "language": "python",
   "name": "python3"
  },
  "language_info": {
   "codemirror_mode": {
    "name": "ipython",
    "version": 3
   },
   "file_extension": ".py",
   "mimetype": "text/x-python",
   "name": "python",
   "nbconvert_exporter": "python",
   "pygments_lexer": "ipython3",
   "version": "3.7.6"
  }
 },
 "nbformat": 4,
 "nbformat_minor": 2
}
